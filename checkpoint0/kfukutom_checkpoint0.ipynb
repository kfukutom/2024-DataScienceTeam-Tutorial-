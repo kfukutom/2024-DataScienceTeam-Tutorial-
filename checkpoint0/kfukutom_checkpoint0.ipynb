{
  "cells": [
    {
      "cell_type": "markdown",
      "metadata": {
        "id": "0a8IYAJUshu1"
      },
      "source": [
        "# Checkpoint 0"
      ],
      "id": "0a8IYAJUshu1"
    },
    {
      "cell_type": "markdown",
      "metadata": {
        "id": "S2748hxB9DlA"
      },
      "source": [
        "These exercises are a mix of Python and Pandas practice. Most should be no more than a few lines of code!"
      ],
      "id": "S2748hxB9DlA"
    },
    {
      "cell_type": "code",
      "execution_count": null,
      "metadata": {
        "id": "Jo6wuTgkshu1"
      },
      "outputs": [],
      "source": [
        "# here is a Python list:\n",
        "\n",
        "a = [1, 2, 3, 4, 5, 6]\n"
      ],
      "id": "Jo6wuTgkshu1"
    },
    {
      "cell_type": "code",
      "execution_count": null,
      "id": "779d96b1",
      "metadata": {
        "id": "779d96b1"
      },
      "outputs": [],
      "source": [
        "# get a list containing the last 3 elements of a\n",
        "# Yes, you can just type out [4, 5, 6] but we really want to see you demonstrate you know how to use list slicing in Python"
      ]
    },
    {
      "cell_type": "code",
      "source": [
        "a[3:6]"
      ],
      "metadata": {
        "colab": {
          "base_uri": "https://localhost:8080/"
        },
        "id": "TLWQdIIx9FT_",
        "outputId": "123d9820-1dab-4a23-dc4d-62d6958decf0"
      },
      "id": "TLWQdIIx9FT_",
      "execution_count": null,
      "outputs": [
        {
          "output_type": "execute_result",
          "data": {
            "text/plain": [
              "[4, 5, 6]"
            ]
          },
          "metadata": {},
          "execution_count": 3
        }
      ]
    },
    {
      "cell_type": "code",
      "execution_count": null,
      "id": "b6a54def",
      "metadata": {
        "id": "b6a54def"
      },
      "outputs": [],
      "source": [
        "# create a list of numbers from 1 to 20"
      ]
    },
    {
      "cell_type": "code",
      "source": [
        "my_list = list(range(1,21))\n",
        "my_list"
      ],
      "metadata": {
        "colab": {
          "base_uri": "https://localhost:8080/"
        },
        "id": "mYKwdYV59bXr",
        "outputId": "9d9789b1-e6d4-4c82-f670-69a0dee937c9"
      },
      "id": "mYKwdYV59bXr",
      "execution_count": null,
      "outputs": [
        {
          "output_type": "execute_result",
          "data": {
            "text/plain": [
              "[1, 2, 3, 4, 5, 6, 7, 8, 9, 10, 11, 12, 13, 14, 15, 16, 17, 18, 19, 20]"
            ]
          },
          "metadata": {},
          "execution_count": 9
        }
      ]
    },
    {
      "cell_type": "code",
      "execution_count": null,
      "id": "487873ac",
      "metadata": {
        "id": "487873ac"
      },
      "outputs": [],
      "source": [
        "# now get a list with only the even numbers between 1 and 100\n",
        "# you may or may not make use of the list you made in the last cell"
      ]
    },
    {
      "cell_type": "code",
      "source": [
        "even_list = list(range(2,101,2))\n",
        "even_list"
      ],
      "metadata": {
        "colab": {
          "base_uri": "https://localhost:8080/"
        },
        "id": "Yt6W10Fk9_6X",
        "outputId": "44a00da7-9614-42bc-eb5b-b89a55a2fea8"
      },
      "id": "Yt6W10Fk9_6X",
      "execution_count": null,
      "outputs": [
        {
          "output_type": "execute_result",
          "data": {
            "text/plain": [
              "[2,\n",
              " 4,\n",
              " 6,\n",
              " 8,\n",
              " 10,\n",
              " 12,\n",
              " 14,\n",
              " 16,\n",
              " 18,\n",
              " 20,\n",
              " 22,\n",
              " 24,\n",
              " 26,\n",
              " 28,\n",
              " 30,\n",
              " 32,\n",
              " 34,\n",
              " 36,\n",
              " 38,\n",
              " 40,\n",
              " 42,\n",
              " 44,\n",
              " 46,\n",
              " 48,\n",
              " 50,\n",
              " 52,\n",
              " 54,\n",
              " 56,\n",
              " 58,\n",
              " 60,\n",
              " 62,\n",
              " 64,\n",
              " 66,\n",
              " 68,\n",
              " 70,\n",
              " 72,\n",
              " 74,\n",
              " 76,\n",
              " 78,\n",
              " 80,\n",
              " 82,\n",
              " 84,\n",
              " 86,\n",
              " 88,\n",
              " 90,\n",
              " 92,\n",
              " 94,\n",
              " 96,\n",
              " 98,\n",
              " 100]"
            ]
          },
          "metadata": {},
          "execution_count": 15
        }
      ]
    },
    {
      "cell_type": "code",
      "execution_count": null,
      "id": "3d4bb5dd",
      "metadata": {
        "id": "3d4bb5dd"
      },
      "outputs": [],
      "source": [
        "# write a function that takes two numbers as arguments\n",
        "# and returns the first number divided by the second"
      ]
    },
    {
      "cell_type": "code",
      "source": [
        "def divide(x,y):\n",
        "  return int(x / y)"
      ],
      "metadata": {
        "id": "JoO5QBUe-kxK"
      },
      "id": "JoO5QBUe-kxK",
      "execution_count": null,
      "outputs": []
    },
    {
      "cell_type": "code",
      "source": [
        "x = divide(4,2)\n",
        "print(f\"{x} is the answer\")"
      ],
      "metadata": {
        "colab": {
          "base_uri": "https://localhost:8080/"
        },
        "id": "UGDAdiBk-rfb",
        "outputId": "9a90a935-9085-4873-8618-43ef29b520ee"
      },
      "id": "UGDAdiBk-rfb",
      "execution_count": null,
      "outputs": [
        {
          "output_type": "stream",
          "name": "stdout",
          "text": [
            "2 is the answer\n"
          ]
        }
      ]
    },
    {
      "cell_type": "code",
      "execution_count": null,
      "id": "b93669fa",
      "metadata": {
        "id": "b93669fa"
      },
      "outputs": [],
      "source": [
        "# write a function that takes a string as input\n",
        "# and return that string in all caps"
      ]
    },
    {
      "cell_type": "code",
      "source": [
        "def allCaps(stringItem):\n",
        "  return stringItem.upper()\n",
        "\n",
        "print(allCaps(\"tacos\"))"
      ],
      "metadata": {
        "colab": {
          "base_uri": "https://localhost:8080/"
        },
        "id": "CHCnHww9-p6l",
        "outputId": "795038b3-be58-4cd8-84b1-e0aacbca5d70"
      },
      "id": "CHCnHww9-p6l",
      "execution_count": null,
      "outputs": [
        {
          "output_type": "stream",
          "name": "stdout",
          "text": [
            "TACOS\n"
          ]
        }
      ]
    },
    {
      "cell_type": "code",
      "execution_count": null,
      "id": "f55df04e",
      "metadata": {
        "id": "f55df04e"
      },
      "outputs": [],
      "source": [
        "# fizzbuzz\n",
        "# you will need to use both iteration and control flow\n",
        "# go through all numbers from 1 to 30 in order\n",
        "# if the number is a multiple of 3, print fizz\n",
        "# if the number is a multiple of 5, print buzz\n",
        "# if the number is a multiple of 3 and 5, print fizzbuzz and NOTHING ELSE\n",
        "# if the number is neither a multiple of 3 nor a multiple of 5, print the number"
      ]
    },
    {
      "cell_type": "code",
      "source": [
        "for i in range (1,31):\n",
        "  if (i % 3 == 0) and (i % 5 == 0):\n",
        "    print(\"fizzbuzz\")\n",
        "  elif (i % 5 == 0):\n",
        "    print(\"buzz\")\n",
        "  elif (i % 3 == 0):\n",
        "    print(\"fizz\")\n",
        "  else:\n",
        "    print(i)\n"
      ],
      "metadata": {
        "colab": {
          "base_uri": "https://localhost:8080/"
        },
        "id": "pibFKIFI_HgR",
        "outputId": "751988aa-4900-4d34-8b64-65c8057670b6"
      },
      "id": "pibFKIFI_HgR",
      "execution_count": null,
      "outputs": [
        {
          "output_type": "stream",
          "name": "stdout",
          "text": [
            "1\n",
            "2\n",
            "fizz\n",
            "4\n",
            "buzz\n",
            "fizz\n",
            "7\n",
            "8\n",
            "fizz\n",
            "buzz\n",
            "11\n",
            "fizz\n",
            "13\n",
            "14\n",
            "fizzbuzz\n",
            "16\n",
            "17\n",
            "fizz\n",
            "19\n",
            "buzz\n",
            "fizz\n",
            "22\n",
            "23\n",
            "fizz\n",
            "buzz\n",
            "26\n",
            "fizz\n",
            "28\n",
            "29\n",
            "fizzbuzz\n"
          ]
        }
      ]
    },
    {
      "cell_type": "code",
      "execution_count": null,
      "id": "78aace0b",
      "metadata": {
        "id": "78aace0b"
      },
      "outputs": [],
      "source": [
        "# create a dictionary that reflects the following menu pricing (taken from Ahmo's)\n",
        "# Gyro: $9\n",
        "# Burger: $9\n",
        "# Greek Salad: $8\n",
        "# Philly Steak: $10"
      ]
    },
    {
      "cell_type": "code",
      "source": [
        "menuPricing = {\"Gyro\": 9, \"Burger\": 9, \"Greek Salad\": 8, \"Philly Steak\": 10}"
      ],
      "metadata": {
        "id": "IIayySN_AfwP"
      },
      "id": "IIayySN_AfwP",
      "execution_count": null,
      "outputs": []
    },
    {
      "cell_type": "code",
      "execution_count": null,
      "metadata": {
        "id": "WzCQ5HOJshvA"
      },
      "outputs": [],
      "source": [
        "# load in the \"starbucks.csv\" dataset\n",
        "# refer to how we read the cereal.csv dataset in the tutorial\n"
      ],
      "id": "WzCQ5HOJshvA"
    },
    {
      "cell_type": "code",
      "source": [
        "from google.colab import drive\n",
        "drive.mount('/content/gdrive')"
      ],
      "metadata": {
        "id": "lBbhSFOKAvex",
        "colab": {
          "base_uri": "https://localhost:8080/"
        },
        "outputId": "9f059bcc-968e-4bac-f15b-353ec2a99532"
      },
      "id": "lBbhSFOKAvex",
      "execution_count": 27,
      "outputs": [
        {
          "output_type": "stream",
          "name": "stdout",
          "text": [
            "Mounted at /content/gdrive\n"
          ]
        }
      ]
    },
    {
      "cell_type": "code",
      "source": [
        "import pandas as pd"
      ],
      "metadata": {
        "id": "31DQG6SJT811"
      },
      "id": "31DQG6SJT811",
      "execution_count": 28,
      "outputs": []
    },
    {
      "cell_type": "code",
      "source": [
        "starbucks = pd.read_csv(\"/content/gdrive/MyDrive/dataset_dst/starbucks.csv\")"
      ],
      "metadata": {
        "id": "cYZYvxn-USYA"
      },
      "id": "cYZYvxn-USYA",
      "execution_count": 29,
      "outputs": []
    },
    {
      "cell_type": "code",
      "execution_count": null,
      "id": "68210b5f",
      "metadata": {
        "id": "68210b5f"
      },
      "outputs": [],
      "source": [
        "# output the calories, sugars, and protein columns only of every 40th row."
      ]
    },
    {
      "cell_type": "code",
      "source": [
        "starbucks"
      ],
      "metadata": {
        "colab": {
          "base_uri": "https://localhost:8080/",
          "height": 826
        },
        "id": "zSnWdvF1Umne",
        "outputId": "9625b971-356e-4e7f-ee5c-a1f00b760864"
      },
      "id": "zSnWdvF1Umne",
      "execution_count": 37,
      "outputs": [
        {
          "output_type": "execute_result",
          "data": {
            "text/plain": [
              "            beverage_category                                    beverage  \\\n",
              "0                      coffee                               brewed coffee   \n",
              "1                      coffee                               brewed coffee   \n",
              "2                      coffee                               brewed coffee   \n",
              "3                      coffee                               brewed coffee   \n",
              "4     classic espresso drinks                                  caff latte   \n",
              "..                        ...                                         ...   \n",
              "237  frappuccino blended crme  strawberries  crme (without whipped cream)   \n",
              "238  frappuccino blended crme        vanilla bean (without whipped cream)   \n",
              "239  frappuccino blended crme        vanilla bean (without whipped cream)   \n",
              "240  frappuccino blended crme        vanilla bean (without whipped cream)   \n",
              "241  frappuccino blended crme        vanilla bean (without whipped cream)   \n",
              "\n",
              "          beverage_prep  calories  total fat  trans fat  saturated fat  \\\n",
              "0                 Short         3        0.1        0.0            0.0   \n",
              "1                  Tall         4        0.1        0.0            0.0   \n",
              "2                Grande         5        0.1        0.0            0.0   \n",
              "3                 Venti         5        0.1        0.0            0.0   \n",
              "4     Short Nonfat Milk        70        0.1        0.1            0.0   \n",
              "..                  ...       ...        ...        ...            ...   \n",
              "237             Soymilk       320        3.2        0.4            0.0   \n",
              "238    Tall Nonfat Milk       170        0.1        0.1            0.0   \n",
              "239          Whole Milk       200        3.5        2.0            0.1   \n",
              "240             Soymilk       180        1.5        0.2            0.0   \n",
              "241  Grande Nonfat Milk       240        0.1        0.1            0.0   \n",
              "\n",
              "     sodium  total carbohydrates  cholesterol  dietary fibre  sugars  protein  \\\n",
              "0         0                    5            0              0       0      0.3   \n",
              "1         0                   10            0              0       0      0.5   \n",
              "2         0                   10            0              0       0      1.0   \n",
              "3         0                   10            0              0       0      1.0   \n",
              "4         5                   75           10              0       9      6.0   \n",
              "..      ...                  ...          ...            ...     ...      ...   \n",
              "237       0                  250           67              1      64      5.0   \n",
              "238       0                  160           39              0      38      4.0   \n",
              "239      10                  160           39              0      38      3.0   \n",
              "240       0                  160           37              1      35      3.0   \n",
              "241       5                  230           56              0      55      5.0   \n",
              "\n",
              "     vitamin a  vitamin c  calcium  iron  caffeine  \n",
              "0            0          0        0   0.0     175.0  \n",
              "1            0          0        0   0.0     260.0  \n",
              "2            0          0        0   0.0     330.0  \n",
              "3            0          0        2   0.0     410.0  \n",
              "4           10          0       20   0.0      75.0  \n",
              "..         ...        ...      ...   ...       ...  \n",
              "237          6          8       20  10.0       0.0  \n",
              "238          6          0       10   0.0       0.0  \n",
              "239          6          0       10   0.0       0.0  \n",
              "240          4          0       10   6.0       0.0  \n",
              "241          8          0       15   0.0       0.0  \n",
              "\n",
              "[242 rows x 18 columns]"
            ],
            "text/html": [
              "\n",
              "  <div id=\"df-191f5fef-f7e8-4ab5-9e66-eac4020e0149\" class=\"colab-df-container\">\n",
              "    <div>\n",
              "<style scoped>\n",
              "    .dataframe tbody tr th:only-of-type {\n",
              "        vertical-align: middle;\n",
              "    }\n",
              "\n",
              "    .dataframe tbody tr th {\n",
              "        vertical-align: top;\n",
              "    }\n",
              "\n",
              "    .dataframe thead th {\n",
              "        text-align: right;\n",
              "    }\n",
              "</style>\n",
              "<table border=\"1\" class=\"dataframe\">\n",
              "  <thead>\n",
              "    <tr style=\"text-align: right;\">\n",
              "      <th></th>\n",
              "      <th>beverage_category</th>\n",
              "      <th>beverage</th>\n",
              "      <th>beverage_prep</th>\n",
              "      <th>calories</th>\n",
              "      <th>total fat</th>\n",
              "      <th>trans fat</th>\n",
              "      <th>saturated fat</th>\n",
              "      <th>sodium</th>\n",
              "      <th>total carbohydrates</th>\n",
              "      <th>cholesterol</th>\n",
              "      <th>dietary fibre</th>\n",
              "      <th>sugars</th>\n",
              "      <th>protein</th>\n",
              "      <th>vitamin a</th>\n",
              "      <th>vitamin c</th>\n",
              "      <th>calcium</th>\n",
              "      <th>iron</th>\n",
              "      <th>caffeine</th>\n",
              "    </tr>\n",
              "  </thead>\n",
              "  <tbody>\n",
              "    <tr>\n",
              "      <th>0</th>\n",
              "      <td>coffee</td>\n",
              "      <td>brewed coffee</td>\n",
              "      <td>Short</td>\n",
              "      <td>3</td>\n",
              "      <td>0.1</td>\n",
              "      <td>0.0</td>\n",
              "      <td>0.0</td>\n",
              "      <td>0</td>\n",
              "      <td>5</td>\n",
              "      <td>0</td>\n",
              "      <td>0</td>\n",
              "      <td>0</td>\n",
              "      <td>0.3</td>\n",
              "      <td>0</td>\n",
              "      <td>0</td>\n",
              "      <td>0</td>\n",
              "      <td>0.0</td>\n",
              "      <td>175.0</td>\n",
              "    </tr>\n",
              "    <tr>\n",
              "      <th>1</th>\n",
              "      <td>coffee</td>\n",
              "      <td>brewed coffee</td>\n",
              "      <td>Tall</td>\n",
              "      <td>4</td>\n",
              "      <td>0.1</td>\n",
              "      <td>0.0</td>\n",
              "      <td>0.0</td>\n",
              "      <td>0</td>\n",
              "      <td>10</td>\n",
              "      <td>0</td>\n",
              "      <td>0</td>\n",
              "      <td>0</td>\n",
              "      <td>0.5</td>\n",
              "      <td>0</td>\n",
              "      <td>0</td>\n",
              "      <td>0</td>\n",
              "      <td>0.0</td>\n",
              "      <td>260.0</td>\n",
              "    </tr>\n",
              "    <tr>\n",
              "      <th>2</th>\n",
              "      <td>coffee</td>\n",
              "      <td>brewed coffee</td>\n",
              "      <td>Grande</td>\n",
              "      <td>5</td>\n",
              "      <td>0.1</td>\n",
              "      <td>0.0</td>\n",
              "      <td>0.0</td>\n",
              "      <td>0</td>\n",
              "      <td>10</td>\n",
              "      <td>0</td>\n",
              "      <td>0</td>\n",
              "      <td>0</td>\n",
              "      <td>1.0</td>\n",
              "      <td>0</td>\n",
              "      <td>0</td>\n",
              "      <td>0</td>\n",
              "      <td>0.0</td>\n",
              "      <td>330.0</td>\n",
              "    </tr>\n",
              "    <tr>\n",
              "      <th>3</th>\n",
              "      <td>coffee</td>\n",
              "      <td>brewed coffee</td>\n",
              "      <td>Venti</td>\n",
              "      <td>5</td>\n",
              "      <td>0.1</td>\n",
              "      <td>0.0</td>\n",
              "      <td>0.0</td>\n",
              "      <td>0</td>\n",
              "      <td>10</td>\n",
              "      <td>0</td>\n",
              "      <td>0</td>\n",
              "      <td>0</td>\n",
              "      <td>1.0</td>\n",
              "      <td>0</td>\n",
              "      <td>0</td>\n",
              "      <td>2</td>\n",
              "      <td>0.0</td>\n",
              "      <td>410.0</td>\n",
              "    </tr>\n",
              "    <tr>\n",
              "      <th>4</th>\n",
              "      <td>classic espresso drinks</td>\n",
              "      <td>caff latte</td>\n",
              "      <td>Short Nonfat Milk</td>\n",
              "      <td>70</td>\n",
              "      <td>0.1</td>\n",
              "      <td>0.1</td>\n",
              "      <td>0.0</td>\n",
              "      <td>5</td>\n",
              "      <td>75</td>\n",
              "      <td>10</td>\n",
              "      <td>0</td>\n",
              "      <td>9</td>\n",
              "      <td>6.0</td>\n",
              "      <td>10</td>\n",
              "      <td>0</td>\n",
              "      <td>20</td>\n",
              "      <td>0.0</td>\n",
              "      <td>75.0</td>\n",
              "    </tr>\n",
              "    <tr>\n",
              "      <th>...</th>\n",
              "      <td>...</td>\n",
              "      <td>...</td>\n",
              "      <td>...</td>\n",
              "      <td>...</td>\n",
              "      <td>...</td>\n",
              "      <td>...</td>\n",
              "      <td>...</td>\n",
              "      <td>...</td>\n",
              "      <td>...</td>\n",
              "      <td>...</td>\n",
              "      <td>...</td>\n",
              "      <td>...</td>\n",
              "      <td>...</td>\n",
              "      <td>...</td>\n",
              "      <td>...</td>\n",
              "      <td>...</td>\n",
              "      <td>...</td>\n",
              "      <td>...</td>\n",
              "    </tr>\n",
              "    <tr>\n",
              "      <th>237</th>\n",
              "      <td>frappuccino blended crme</td>\n",
              "      <td>strawberries  crme (without whipped cream)</td>\n",
              "      <td>Soymilk</td>\n",
              "      <td>320</td>\n",
              "      <td>3.2</td>\n",
              "      <td>0.4</td>\n",
              "      <td>0.0</td>\n",
              "      <td>0</td>\n",
              "      <td>250</td>\n",
              "      <td>67</td>\n",
              "      <td>1</td>\n",
              "      <td>64</td>\n",
              "      <td>5.0</td>\n",
              "      <td>6</td>\n",
              "      <td>8</td>\n",
              "      <td>20</td>\n",
              "      <td>10.0</td>\n",
              "      <td>0.0</td>\n",
              "    </tr>\n",
              "    <tr>\n",
              "      <th>238</th>\n",
              "      <td>frappuccino blended crme</td>\n",
              "      <td>vanilla bean (without whipped cream)</td>\n",
              "      <td>Tall Nonfat Milk</td>\n",
              "      <td>170</td>\n",
              "      <td>0.1</td>\n",
              "      <td>0.1</td>\n",
              "      <td>0.0</td>\n",
              "      <td>0</td>\n",
              "      <td>160</td>\n",
              "      <td>39</td>\n",
              "      <td>0</td>\n",
              "      <td>38</td>\n",
              "      <td>4.0</td>\n",
              "      <td>6</td>\n",
              "      <td>0</td>\n",
              "      <td>10</td>\n",
              "      <td>0.0</td>\n",
              "      <td>0.0</td>\n",
              "    </tr>\n",
              "    <tr>\n",
              "      <th>239</th>\n",
              "      <td>frappuccino blended crme</td>\n",
              "      <td>vanilla bean (without whipped cream)</td>\n",
              "      <td>Whole Milk</td>\n",
              "      <td>200</td>\n",
              "      <td>3.5</td>\n",
              "      <td>2.0</td>\n",
              "      <td>0.1</td>\n",
              "      <td>10</td>\n",
              "      <td>160</td>\n",
              "      <td>39</td>\n",
              "      <td>0</td>\n",
              "      <td>38</td>\n",
              "      <td>3.0</td>\n",
              "      <td>6</td>\n",
              "      <td>0</td>\n",
              "      <td>10</td>\n",
              "      <td>0.0</td>\n",
              "      <td>0.0</td>\n",
              "    </tr>\n",
              "    <tr>\n",
              "      <th>240</th>\n",
              "      <td>frappuccino blended crme</td>\n",
              "      <td>vanilla bean (without whipped cream)</td>\n",
              "      <td>Soymilk</td>\n",
              "      <td>180</td>\n",
              "      <td>1.5</td>\n",
              "      <td>0.2</td>\n",
              "      <td>0.0</td>\n",
              "      <td>0</td>\n",
              "      <td>160</td>\n",
              "      <td>37</td>\n",
              "      <td>1</td>\n",
              "      <td>35</td>\n",
              "      <td>3.0</td>\n",
              "      <td>4</td>\n",
              "      <td>0</td>\n",
              "      <td>10</td>\n",
              "      <td>6.0</td>\n",
              "      <td>0.0</td>\n",
              "    </tr>\n",
              "    <tr>\n",
              "      <th>241</th>\n",
              "      <td>frappuccino blended crme</td>\n",
              "      <td>vanilla bean (without whipped cream)</td>\n",
              "      <td>Grande Nonfat Milk</td>\n",
              "      <td>240</td>\n",
              "      <td>0.1</td>\n",
              "      <td>0.1</td>\n",
              "      <td>0.0</td>\n",
              "      <td>5</td>\n",
              "      <td>230</td>\n",
              "      <td>56</td>\n",
              "      <td>0</td>\n",
              "      <td>55</td>\n",
              "      <td>5.0</td>\n",
              "      <td>8</td>\n",
              "      <td>0</td>\n",
              "      <td>15</td>\n",
              "      <td>0.0</td>\n",
              "      <td>0.0</td>\n",
              "    </tr>\n",
              "  </tbody>\n",
              "</table>\n",
              "<p>242 rows × 18 columns</p>\n",
              "</div>\n",
              "    <div class=\"colab-df-buttons\">\n",
              "\n",
              "  <div class=\"colab-df-container\">\n",
              "    <button class=\"colab-df-convert\" onclick=\"convertToInteractive('df-191f5fef-f7e8-4ab5-9e66-eac4020e0149')\"\n",
              "            title=\"Convert this dataframe to an interactive table.\"\n",
              "            style=\"display:none;\">\n",
              "\n",
              "  <svg xmlns=\"http://www.w3.org/2000/svg\" height=\"24px\" viewBox=\"0 -960 960 960\">\n",
              "    <path d=\"M120-120v-720h720v720H120Zm60-500h600v-160H180v160Zm220 220h160v-160H400v160Zm0 220h160v-160H400v160ZM180-400h160v-160H180v160Zm440 0h160v-160H620v160ZM180-180h160v-160H180v160Zm440 0h160v-160H620v160Z\"/>\n",
              "  </svg>\n",
              "    </button>\n",
              "\n",
              "  <style>\n",
              "    .colab-df-container {\n",
              "      display:flex;\n",
              "      gap: 12px;\n",
              "    }\n",
              "\n",
              "    .colab-df-convert {\n",
              "      background-color: #E8F0FE;\n",
              "      border: none;\n",
              "      border-radius: 50%;\n",
              "      cursor: pointer;\n",
              "      display: none;\n",
              "      fill: #1967D2;\n",
              "      height: 32px;\n",
              "      padding: 0 0 0 0;\n",
              "      width: 32px;\n",
              "    }\n",
              "\n",
              "    .colab-df-convert:hover {\n",
              "      background-color: #E2EBFA;\n",
              "      box-shadow: 0px 1px 2px rgba(60, 64, 67, 0.3), 0px 1px 3px 1px rgba(60, 64, 67, 0.15);\n",
              "      fill: #174EA6;\n",
              "    }\n",
              "\n",
              "    .colab-df-buttons div {\n",
              "      margin-bottom: 4px;\n",
              "    }\n",
              "\n",
              "    [theme=dark] .colab-df-convert {\n",
              "      background-color: #3B4455;\n",
              "      fill: #D2E3FC;\n",
              "    }\n",
              "\n",
              "    [theme=dark] .colab-df-convert:hover {\n",
              "      background-color: #434B5C;\n",
              "      box-shadow: 0px 1px 3px 1px rgba(0, 0, 0, 0.15);\n",
              "      filter: drop-shadow(0px 1px 2px rgba(0, 0, 0, 0.3));\n",
              "      fill: #FFFFFF;\n",
              "    }\n",
              "  </style>\n",
              "\n",
              "    <script>\n",
              "      const buttonEl =\n",
              "        document.querySelector('#df-191f5fef-f7e8-4ab5-9e66-eac4020e0149 button.colab-df-convert');\n",
              "      buttonEl.style.display =\n",
              "        google.colab.kernel.accessAllowed ? 'block' : 'none';\n",
              "\n",
              "      async function convertToInteractive(key) {\n",
              "        const element = document.querySelector('#df-191f5fef-f7e8-4ab5-9e66-eac4020e0149');\n",
              "        const dataTable =\n",
              "          await google.colab.kernel.invokeFunction('convertToInteractive',\n",
              "                                                    [key], {});\n",
              "        if (!dataTable) return;\n",
              "\n",
              "        const docLinkHtml = 'Like what you see? Visit the ' +\n",
              "          '<a target=\"_blank\" href=https://colab.research.google.com/notebooks/data_table.ipynb>data table notebook</a>'\n",
              "          + ' to learn more about interactive tables.';\n",
              "        element.innerHTML = '';\n",
              "        dataTable['output_type'] = 'display_data';\n",
              "        await google.colab.output.renderOutput(dataTable, element);\n",
              "        const docLink = document.createElement('div');\n",
              "        docLink.innerHTML = docLinkHtml;\n",
              "        element.appendChild(docLink);\n",
              "      }\n",
              "    </script>\n",
              "  </div>\n",
              "\n",
              "\n",
              "<div id=\"df-8fae404f-1906-4b6b-99db-58050d5b1843\">\n",
              "  <button class=\"colab-df-quickchart\" onclick=\"quickchart('df-8fae404f-1906-4b6b-99db-58050d5b1843')\"\n",
              "            title=\"Suggest charts\"\n",
              "            style=\"display:none;\">\n",
              "\n",
              "<svg xmlns=\"http://www.w3.org/2000/svg\" height=\"24px\"viewBox=\"0 0 24 24\"\n",
              "     width=\"24px\">\n",
              "    <g>\n",
              "        <path d=\"M19 3H5c-1.1 0-2 .9-2 2v14c0 1.1.9 2 2 2h14c1.1 0 2-.9 2-2V5c0-1.1-.9-2-2-2zM9 17H7v-7h2v7zm4 0h-2V7h2v10zm4 0h-2v-4h2v4z\"/>\n",
              "    </g>\n",
              "</svg>\n",
              "  </button>\n",
              "\n",
              "<style>\n",
              "  .colab-df-quickchart {\n",
              "      --bg-color: #E8F0FE;\n",
              "      --fill-color: #1967D2;\n",
              "      --hover-bg-color: #E2EBFA;\n",
              "      --hover-fill-color: #174EA6;\n",
              "      --disabled-fill-color: #AAA;\n",
              "      --disabled-bg-color: #DDD;\n",
              "  }\n",
              "\n",
              "  [theme=dark] .colab-df-quickchart {\n",
              "      --bg-color: #3B4455;\n",
              "      --fill-color: #D2E3FC;\n",
              "      --hover-bg-color: #434B5C;\n",
              "      --hover-fill-color: #FFFFFF;\n",
              "      --disabled-bg-color: #3B4455;\n",
              "      --disabled-fill-color: #666;\n",
              "  }\n",
              "\n",
              "  .colab-df-quickchart {\n",
              "    background-color: var(--bg-color);\n",
              "    border: none;\n",
              "    border-radius: 50%;\n",
              "    cursor: pointer;\n",
              "    display: none;\n",
              "    fill: var(--fill-color);\n",
              "    height: 32px;\n",
              "    padding: 0;\n",
              "    width: 32px;\n",
              "  }\n",
              "\n",
              "  .colab-df-quickchart:hover {\n",
              "    background-color: var(--hover-bg-color);\n",
              "    box-shadow: 0 1px 2px rgba(60, 64, 67, 0.3), 0 1px 3px 1px rgba(60, 64, 67, 0.15);\n",
              "    fill: var(--button-hover-fill-color);\n",
              "  }\n",
              "\n",
              "  .colab-df-quickchart-complete:disabled,\n",
              "  .colab-df-quickchart-complete:disabled:hover {\n",
              "    background-color: var(--disabled-bg-color);\n",
              "    fill: var(--disabled-fill-color);\n",
              "    box-shadow: none;\n",
              "  }\n",
              "\n",
              "  .colab-df-spinner {\n",
              "    border: 2px solid var(--fill-color);\n",
              "    border-color: transparent;\n",
              "    border-bottom-color: var(--fill-color);\n",
              "    animation:\n",
              "      spin 1s steps(1) infinite;\n",
              "  }\n",
              "\n",
              "  @keyframes spin {\n",
              "    0% {\n",
              "      border-color: transparent;\n",
              "      border-bottom-color: var(--fill-color);\n",
              "      border-left-color: var(--fill-color);\n",
              "    }\n",
              "    20% {\n",
              "      border-color: transparent;\n",
              "      border-left-color: var(--fill-color);\n",
              "      border-top-color: var(--fill-color);\n",
              "    }\n",
              "    30% {\n",
              "      border-color: transparent;\n",
              "      border-left-color: var(--fill-color);\n",
              "      border-top-color: var(--fill-color);\n",
              "      border-right-color: var(--fill-color);\n",
              "    }\n",
              "    40% {\n",
              "      border-color: transparent;\n",
              "      border-right-color: var(--fill-color);\n",
              "      border-top-color: var(--fill-color);\n",
              "    }\n",
              "    60% {\n",
              "      border-color: transparent;\n",
              "      border-right-color: var(--fill-color);\n",
              "    }\n",
              "    80% {\n",
              "      border-color: transparent;\n",
              "      border-right-color: var(--fill-color);\n",
              "      border-bottom-color: var(--fill-color);\n",
              "    }\n",
              "    90% {\n",
              "      border-color: transparent;\n",
              "      border-bottom-color: var(--fill-color);\n",
              "    }\n",
              "  }\n",
              "</style>\n",
              "\n",
              "  <script>\n",
              "    async function quickchart(key) {\n",
              "      const quickchartButtonEl =\n",
              "        document.querySelector('#' + key + ' button');\n",
              "      quickchartButtonEl.disabled = true;  // To prevent multiple clicks.\n",
              "      quickchartButtonEl.classList.add('colab-df-spinner');\n",
              "      try {\n",
              "        const charts = await google.colab.kernel.invokeFunction(\n",
              "            'suggestCharts', [key], {});\n",
              "      } catch (error) {\n",
              "        console.error('Error during call to suggestCharts:', error);\n",
              "      }\n",
              "      quickchartButtonEl.classList.remove('colab-df-spinner');\n",
              "      quickchartButtonEl.classList.add('colab-df-quickchart-complete');\n",
              "    }\n",
              "    (() => {\n",
              "      let quickchartButtonEl =\n",
              "        document.querySelector('#df-8fae404f-1906-4b6b-99db-58050d5b1843 button');\n",
              "      quickchartButtonEl.style.display =\n",
              "        google.colab.kernel.accessAllowed ? 'block' : 'none';\n",
              "    })();\n",
              "  </script>\n",
              "</div>\n",
              "    </div>\n",
              "  </div>\n"
            ]
          },
          "metadata": {},
          "execution_count": 37
        }
      ]
    },
    {
      "cell_type": "code",
      "source": [
        "output40 = starbucks.iloc[::40, starbucks.columns.get_indexer(['calories', 'sugars', 'protein'])]"
      ],
      "metadata": {
        "id": "BMwminr_WCfx"
      },
      "id": "BMwminr_WCfx",
      "execution_count": 33,
      "outputs": []
    },
    {
      "cell_type": "code",
      "execution_count": null,
      "id": "ac0f0c12",
      "metadata": {
        "id": "ac0f0c12"
      },
      "outputs": [],
      "source": [
        "# select all rows with more than and including 400 calories"
      ]
    },
    {
      "cell_type": "code",
      "source": [
        "starbucks[starbucks[\"calories\"] > 400]"
      ],
      "metadata": {
        "id": "zRX473rVWjCa"
      },
      "id": "zRX473rVWjCa",
      "execution_count": null,
      "outputs": []
    },
    {
      "cell_type": "code",
      "execution_count": null,
      "id": "ee8f8241",
      "metadata": {
        "id": "ee8f8241"
      },
      "outputs": [],
      "source": [
        "# select all rows whose vitamin c content is higher than the iron content"
      ]
    },
    {
      "cell_type": "code",
      "source": [
        "starbucks[starbucks[\"vitamin c\"] > starbucks[\"iron\"]]"
      ],
      "metadata": {
        "id": "stlSQmETknG6"
      },
      "id": "stlSQmETknG6",
      "execution_count": null,
      "outputs": []
    },
    {
      "cell_type": "code",
      "execution_count": null,
      "id": "d4de48bb",
      "metadata": {
        "id": "d4de48bb"
      },
      "outputs": [],
      "source": [
        "# create a new column containing the caffeine per calories of each drink"
      ]
    },
    {
      "cell_type": "code",
      "source": [
        "starbucks[\"caffeine_per_calories\"] = round((starbucks[\"caffeine\"]/starbucks[\"calories\"]), 2)"
      ],
      "metadata": {
        "id": "Mu3eiBFUk_Qu"
      },
      "id": "Mu3eiBFUk_Qu",
      "execution_count": 47,
      "outputs": []
    },
    {
      "cell_type": "code",
      "source": [
        "starbucks"
      ],
      "metadata": {
        "id": "UlM0Z-wklVhX"
      },
      "id": "UlM0Z-wklVhX",
      "execution_count": null,
      "outputs": []
    },
    {
      "cell_type": "code",
      "execution_count": null,
      "metadata": {
        "id": "rIoxaSxHshvB"
      },
      "outputs": [],
      "source": [
        "# what is the average calorie across all items?\n"
      ],
      "id": "rIoxaSxHshvB"
    },
    {
      "cell_type": "code",
      "source": [
        "average_calorie = starbucks['calories'].mean()\n",
        "print(f\"the average calories across all beverage items will be {round(average_calorie,3)} calories.\")"
      ],
      "metadata": {
        "colab": {
          "base_uri": "https://localhost:8080/"
        },
        "id": "CQzobXz6lsUc",
        "outputId": "08a18c2c-ea72-4d65-fcb9-60f7ef83a98c"
      },
      "id": "CQzobXz6lsUc",
      "execution_count": 52,
      "outputs": [
        {
          "output_type": "stream",
          "name": "stdout",
          "text": [
            "the average calories across all beverage items will be 193.872 calories.\n"
          ]
        }
      ]
    },
    {
      "cell_type": "code",
      "execution_count": null,
      "metadata": {
        "id": "ABX7i49FshvD"
      },
      "outputs": [],
      "source": [
        "# how many different categories of beverages are there?\n"
      ],
      "id": "ABX7i49FshvD"
    },
    {
      "cell_type": "code",
      "source": [
        "print(len(starbucks[\"beverage_category\"].unique()))"
      ],
      "metadata": {
        "colab": {
          "base_uri": "https://localhost:8080/"
        },
        "id": "KfQUobVXmFNO",
        "outputId": "9499bf9f-c1f0-412b-fb84-b597281ed60f"
      },
      "id": "KfQUobVXmFNO",
      "execution_count": 56,
      "outputs": [
        {
          "output_type": "stream",
          "name": "stdout",
          "text": [
            "9\n"
          ]
        }
      ]
    },
    {
      "cell_type": "code",
      "execution_count": 64,
      "metadata": {
        "id": "P9QatZAzshvE",
        "colab": {
          "base_uri": "https://localhost:8080/"
        },
        "outputId": "c9200aa1-7376-414e-a21a-e74974b7c41d"
      },
      "outputs": [
        {
          "output_type": "execute_result",
          "data": {
            "text/plain": [
              "beverage_category\n",
              "classic espresso drinks             140.172414\n",
              "coffee                                4.250000\n",
              "frappuccino blended coffee          276.944444\n",
              "frappuccino blended crme            233.076923\n",
              "frappuccino light blended coffee    162.500000\n",
              "shaken iced beverages               114.444444\n",
              "signature espresso drinks           250.000000\n",
              "smoothies                           282.222222\n",
              "tazo tea drinks                     177.307692\n",
              "Name: calories, dtype: float64"
            ]
          },
          "metadata": {},
          "execution_count": 64
        }
      ],
      "source": [
        "# what is the average # calories for each beverage category?\n",
        "starbucks.groupby([\"beverage_category\"])[\"calories\"].mean()\n"
      ],
      "id": "P9QatZAzshvE"
    }
  ],
  "metadata": {
    "kernelspec": {
      "display_name": "Python 3.9.0 64-bit",
      "language": "python",
      "name": "python3"
    },
    "language_info": {
      "codemirror_mode": {
        "name": "ipython",
        "version": 3
      },
      "file_extension": ".py",
      "mimetype": "text/x-python",
      "name": "python",
      "nbconvert_exporter": "python",
      "pygments_lexer": "ipython3",
      "version": "3.9.0"
    },
    "vscode": {
      "interpreter": {
        "hash": "6cf8df3ff69f85f626faf55c10df6fe2cb9d1236b4dc73844ee4dc01369c2c99"
      }
    },
    "colab": {
      "provenance": []
    }
  },
  "nbformat": 4,
  "nbformat_minor": 5
}